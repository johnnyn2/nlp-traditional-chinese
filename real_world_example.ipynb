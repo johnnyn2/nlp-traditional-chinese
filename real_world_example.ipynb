{
 "cells": [
  {
   "cell_type": "code",
   "execution_count": null,
   "metadata": {
    "tags": []
   },
   "outputs": [],
   "source": [
    "import pandas as pd\n",
    "\n",
    "passage ='''\n",
    "本港新冠肺炎疫情於本周轉趨嚴峻，消息指，有85歲女院友確診的慈雲山港泰護老中心，至今日（8日）早上再有至少4人初步確診，當中包括院友及職員，已被送往醫院接受治療。食物及衞生局局長陳肇始今早接受電台訪問時表示，本港現時出現「社區爆發」，短時間出現至少5宗本地個案屬重要警號，需盡快追蹤。\n",
    "\n",
    "除了慈雲山港泰護老中心據報再有至少4人初步確診外，拔萃男書院亦於昨日（ 7日）晚上10時許公布，小學部有一名家長確診，小學及中學部今日起停課，至另行通知，而原定今日舉行的考試亦會取消，會安排補考，校園將全面清潔消毒。\n",
    "\n",
    "至於黃大仙中華基督教會扶輪中學、油蔴地天主教小學（海泓道）、沙田崇真學校、上水鳳溪創新小學、香港演藝學院等學校，亦因有學生或學生家人「中招」而需要停課。\n",
    "\n",
    "陳肇始今早在電台節目形容香港出現「社區爆發」，指出香港短時間內再現本地個案，其中有5宗源頭未明是重要警號，需盡快追蹤源頭並加強測試，當局會在確診患者的工作、居住地點及曾到過的地方，向市民派發大量樣本瓶。她又呼籲市民切勿鬆懈，不少外國地區放寬社交距離措施後亦出現感染個案。目前當局已正從收緊方向檢視限聚令等措施。\n",
    "\n",
    "中大呼吸系統科講座教授許樹昌亦在節目中表示，長者感染新冠肺炎的死亡率可以很高，認為不准探訪的安排需維持一段時間。他又同意本港已出現新冠肺炎社區爆發的第三波疫情，若不明個案數目上升，又或有更多學童受影響，當局應再次實施停課、限制食肆 6至8人一桌等防疫措施。他認為早點執行較好，目標是截斷社區傳播鏈。\n",
    "'''\n",
    "\n",
    "tags = pd.read_csv(\"tag_id_name.csv\")\n",
    "suggested_tags = list(filter(lambda word:word in passage, list(tags.tag_name)))\n",
    "user_selected_tags = ['傳染病', '疫情', '電台節目', '陳肇始', '許樹昌', '香港演藝學院', '沙田崇真學校', '油蔴地天主教小學','中華基督教會扶輪中學','鳳溪創新小學','拔萃男書院','拔萃男書院附屬小學','肺炎','新冠肺炎疫情','新冠肺炎']\n",
    "\n",
    "print(suggested_tags)"
   ]
  },
  {
   "cell_type": "code",
   "execution_count": null,
   "metadata": {
    "tags": []
   },
   "outputs": [],
   "source": [
    "set_suggested_tags = set(suggested_tags)\n",
    "set_user_selected_tags = set(user_selected_tags)\n",
    "\n",
    "#  Show the intersection of tags from text-matching and user-selected tags. It turns out that the users select a lot of tags from suggested tags\n",
    "print(set_suggested_tags.intersection(set_user_selected_tags))"
   ]
  },
  {
   "cell_type": "code",
   "execution_count": null,
   "metadata": {
    "tags": []
   },
   "outputs": [],
   "source": [
    "# Shows the difference of user-selected tags and the tags from text-matching. It turns out some tags are not recommended because the tags are not exactly matching the tags from csv, but those tags can be derived from the semantic meaning of the passage. E.g. 拔萃男書院小學部 means 拔萃男書院附屬小學; 新冠肺炎 means 傳染病\n",
    "print(set_user_selected_tags.difference(set_suggested_tags))"
   ]
  },
  {
   "cell_type": "code",
   "execution_count": null,
   "metadata": {
    "tags": []
   },
   "outputs": [],
   "source": [
    "# Shows the difference of the tags from text-matching and user-selected tags. It turns out that some tags are not selected by the user.\n",
    "print(set_suggested_tags.difference(set_user_selected_tags))"
   ]
  }
 ],
 "metadata": {
  "kernelspec": {
   "display_name": "Python 3",
   "language": "python",
   "name": "python3"
  },
  "language_info": {
   "codemirror_mode": {
    "name": "ipython",
    "version": 3
   },
   "file_extension": ".py",
   "mimetype": "text/x-python",
   "name": "python",
   "nbconvert_exporter": "python",
   "pygments_lexer": "ipython3",
   "version": "3.7.6-final"
  }
 },
 "nbformat": 4,
 "nbformat_minor": 4
}