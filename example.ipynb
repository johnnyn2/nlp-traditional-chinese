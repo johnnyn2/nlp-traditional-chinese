{
 "cells": [
  {
   "cell_type": "code",
   "execution_count": null,
   "metadata": {
    "tags": []
   },
   "outputs": [],
   "source": [
    "# Data preparation. Read all articles from csv.\n",
    "import pandas as pd\n",
    "tags = pd.read_csv(\"tag_id_name.csv\")\n",
    "tags_list = [str(tag) for tag in tags.tag_name]\n",
    "articles = pd.read_csv('article_tag_full_prod.csv', usecols=['a_content_id', 'a_content', 'tag_names', 'tag_id_paths', 'a_channel_id'])"
   ]
  },
  {
   "cell_type": "code",
   "execution_count": null,
   "metadata": {
    "tags": []
   },
   "outputs": [],
   "source": [
    "import string\n",
    "import re\n",
    "from ckiptagger import data_utils, construct_dictionary, WS\n",
    "\n",
    "# Data cleaning (remove punctuation, special characters, spaces)\n",
    "def clean(article):\n",
    "    removed_parenthese = re.sub('[()]', '', article)\n",
    "    removed_num = re.sub(r'[0-9]+', '', removed_parenthese)\n",
    "    removed_w = re.sub(r'[^\\w]', '', removed_num)\n",
    "    removed_english = re.sub(r'[a-zA-Z]', '', removed_w)\n",
    "    return removed_english\n",
    "\n",
    "ws = WS('./data')\n",
    "\n",
    "article_tags = []\n",
    "pa = open('preprocessed_articles.txt', 'w', encoding='utf8')\n",
    "pat = open('preprocessed_articles_tags.txt', 'w', encoding='utf8')\n",
    "for i, row in articles.iterrows():\n",
    "    tag_names = re.split('\\|', str(row['tag_names']))\n",
    "    article_tags.append(tag_names)\n",
    "    sentence_list = re.split('。|！|？| ', clean(str(row['a_content'])))\n",
    "    word_sentence_list = ws(sentence_list)\n",
    "    not_null_sentence_list = filter(lambda sentence: len(sentence) > 0, word_sentence_list)\n",
    "    row['a_content'] = ' '.join(sum(not_null_sentence_list, []))\n",
    "    pa.write(row['a_content'] + '\\n')\n",
    "    pat.write('[' + ', '.join(map(str, tag_names)) + ']\\n')\n",
    "pa.close()\n",
    "pat.close()\n",
    "del ws"
   ]
  },
  {
   "cell_type": "code",
   "execution_count": 9,
   "metadata": {},
   "outputs": [],
   "source": [
    "pa.close()\n",
    "pat.close()"
   ]
  },
  {
   "cell_type": "code",
   "execution_count": null,
   "metadata": {},
   "outputs": [],
   "source": [
    "import numpy as np\n",
    "from sklearn.model_selection import train_test_split\n",
    "from sklearn.svm import LinearSVC\n",
    "from sklearn.feature_extraction.text import TfidfTransformer\n",
    "from sklearn.multiclass import OneVsRestClassifier\n",
    "from sklearn.preprocessing import MultiLabelBinarizer\n",
    "from sklearn.pipeline import Pipeline\n",
    "from sklearn.feature_extraction.text import CountVectorizer\n",
    "import re\n",
    "\n",
    "f = open('stop_words.txt', 'r', encoding='utf8')\n",
    "stop_words = [re.sub('\\\\n', '', str(word)) for word in f]\n",
    "fa = open('preprocessed_data.txt', 'r', encoding='uft8')\n",
    "preprocessed_articles = [re.sub('\\\\n', '', str(article)) for article in fa]\n",
    "\n",
    "# all_articles = np.array(articles['a_content'].tolist())\n",
    "all_articles = np.array(preprocessed_articles)\n",
    "all_articles_tags = article_tags\n",
    "X_train, X_test, y_train, y_test = train_test_split(all_articles, all_articles_tags, test_size=0.33, random_state=42)\n",
    "\n",
    "mlb = MultiLabelBinarizer()\n",
    "Y = mlb.fit_transform(y_train)\n",
    "classifier = Pipeline([\n",
    "    ('vectorizer', CountVectorizer()),\n",
    "    ('tfidf', TfidfTransformer(stop_words=stop_words)),\n",
    "    ('clf', OneVsRestClassifier(LinearSVC()))\n",
    "])\n",
    "classifier.fit(X_train, Y)\n",
    "predicted = classifier.predict(X_test)\n",
    "all_labels = mlb.inverse_transform(predicted)\n",
    "\n",
    "with open('training_result.txt', 'w', encoding='utf8') as writer:\n",
    "    for item, labels in zip(X_test, all_labels):\n",
    "        writer.writelines('{0} => {1}'.format(item, ', '.join(labels)))"
   ]
  },
  {
   "cell_type": "code",
   "execution_count": null,
   "metadata": {
    "tags": []
   },
   "outputs": [],
   "source": [
    "# Split test data and train data\n",
    "import re\n",
    "import matplotlib\n",
    "import numpy as np\n",
    "import matplotlib.pyplot as plt\n",
    "import pandas as pd\n",
    "from sklearn.model_selection import train_test_split\n",
    "from sklearn.feature_extraction.text import TfidfVectorizer\n",
    "from sklearn.naive_bayes import MultinomialNB\n",
    "from sklearn.metrics import accuracy_score\n",
    "from sklearn.multiclass import OneVsRestClassifier\n",
    "from sklearn.svm import LinearSVC\n",
    "from sklearn.linear_model import LogisticRegression\n",
    "from sklearn.pipeline import Pipeline\n",
    "import seaborn as sns\n",
    "from sklearn.model_selection import train_test_split\n",
    "\n",
    "\n",
    "train, test = train_test_split(simple_articles, test_size=0.33, random_state=42)\n",
    "x_train = train.content\n",
    "y_train = train.drop(labels = ['id', 'content'])\n",
    "x_test = test.content\n",
    "y_test = test.drop(labels = ['id', 'content'])"
   ]
  },
  {
   "cell_type": "code",
   "execution_count": null,
   "metadata": {
    "tags": []
   },
   "outputs": [],
   "source": [
    "import re\n",
    "f = open('stop_words.txt', 'r', encoding='utf8')\n",
    "stop_words = [re.sub('\\\\n', '', word) for word in f]\n",
    "\n",
    "# Define a pipeline combining a text feature extractor with multilabel classifier\n",
    "# Naive Bayes\n",
    "NB_pipeline = Pipeline([\n",
    "    ('tfidf', TfidfVectorizer(stop_words=stop_words)),\n",
    "    ('clf', OneVsRestClassifier(MultinomialNB(fit_prior=True, class_prior=None))),\n",
    "])\n",
    "for tag in tags_list:\n",
    "    NB_pipeline.fit(x_train, train[tag]) # some problem on train[tag]\n",
    "    prediction = NB_pipeline.predict(x_test)\n",
    "\n",
    "# LinearSVC\n",
    "SVC_pipeline = Pipeline([\n",
    "    ('tfidf', TfidfVectorizer(stop_words=stop_words)),\n",
    "    ('clf', OneVsRestClassifier(LinearSVC(), n_jobs=1)),\n",
    "])\n",
    "for tag in tags_list:\n",
    "    SVC_pipeline.fit(x_train, train[tag]) # some problem on train[tag]\n",
    "    prediction = SVC_pipeline.predict(x_test)\n",
    "\n",
    "# Logistic Regression\n",
    "LogReg_pipeline = Pipeline([\n",
    "    ('tfidf', TfidfVectorizer(stop_words=stop_words)),\n",
    "    ('clf', OneVsRestClassifier(LogisticRegression(solver='sag'), n_jobs=1)),\n",
    "])\n",
    "for tag in tags_list:\n",
    "    LogReg_pipeline.fit(x_train, train[tag]) # some problem on train[tag]\n",
    "    prediction = LogReg_pipeline.predict(x_test)"
   ]
  },
  {
   "cell_type": "code",
   "execution_count": null,
   "metadata": {},
   "outputs": [],
   "source": [
    "# Binary Relevance\n",
    "from skmultilearn.problem_transform import BinaryRelevance\n",
    "from sklearn.naive_bayes import GaussianNB\n",
    "\n",
    "# initialize binary relevance multi-label classifier with a gaussian naive bayes base classifier\n",
    "classifier = BinaryRelevance(GaussianNB())\n",
    "\n",
    "#train\n",
    "classifier.fit(x_train, y_train)\n",
    "\n",
    "# predict\n",
    "predictions = classifier.predict(x_test)\n",
    "\n",
    "# accuracy\n",
    "print(\"Accuracy = \", accuracy_score(y_test, predictions))\n",
    "print(\"\\n\")print(\"\\n\")"
   ]
  },
  {
   "cell_type": "code",
   "execution_count": null,
   "metadata": {},
   "outputs": [],
   "source": [
    "# Classifier chains\n",
    "from skmultilearn.problem_transform import ClassifierChain\n",
    "from sklearn.linear_model import LogisticRegression\n",
    "\n",
    "# initialize classifier chains multi-label classifier\n",
    "classifier = ClassifierChain(LogisticRegression())\n",
    "\n",
    "# training logistic regression model on train data\n",
    "classifier.fit(x_train, y_train)\n",
    "\n",
    "# predict\n",
    "predictions = classifier.predict(x_test)\n",
    "\n",
    "# accuracy\n",
    "print(\"Accuracy = \", accuracy_score(y_test, predictions))\n",
    "print(\"\\n\")"
   ]
  },
  {
   "cell_type": "code",
   "execution_count": null,
   "metadata": {},
   "outputs": [],
   "source": [
    "# Label powerset\n",
    "from skmultilearn.problem_transform import LabelPowerset\n",
    "\n",
    "# initialize label powerset multi-label classifier\n",
    "classifier = LabelPowerset(LogisticRegression())\n",
    "\n",
    "# train\n",
    "classifier.fit(x_train, y_train)\n",
    "\n",
    "# predict\n",
    "predictions = classifier.predict(x_test)\n",
    "\n",
    "# accuracy\n",
    "print(\"Accuracy = \", accuracy_score(y_test, predictions))\n",
    "print(\"\\n\")"
   ]
  },
  {
   "cell_type": "code",
   "execution_count": null,
   "metadata": {},
   "outputs": [],
   "source": [
    "# Adapted algorithm\n",
    "from skmultilearn.adapt import MLkNN\n",
    "from scipy.sparse import csr_matrix, lil_matrix\n",
    "classifier_new = MLkNN(k=10)\n",
    "# Note that this classifier can throw up errors when handling sparse matrices.\n",
    "x_train = lil_matrix(x_train).toarray()\n",
    "y_train = lil_matrix(y_train).toarray()\n",
    "x_test = lil_matrix(x_test).toarray()\n",
    "# train\n",
    "classifier_new.fit(x_train, y_train)\n",
    "# predict\n",
    "predictions_new = classifier_new.predict(x_test)\n",
    "# accuracy\n",
    "print(\"Accuracy = \",accuracy_score(y_test,predictions_new))"
   ]
  }
 ],
 "metadata": {
  "kernelspec": {
   "display_name": "Python 3",
   "language": "python",
   "name": "python3"
  },
  "language_info": {
   "codemirror_mode": {
    "name": "ipython",
    "version": 3
   },
   "file_extension": ".py",
   "mimetype": "text/x-python",
   "name": "python",
   "nbconvert_exporter": "python",
   "pygments_lexer": "ipython3",
   "version": "3.7.6-final"
  }
 },
 "nbformat": 4,
 "nbformat_minor": 4
}