{
 "cells": [
  {
   "cell_type": "code",
   "execution_count": 1,
   "metadata": {
    "tags": []
   },
   "outputs": [],
   "source": [
    "# Data preparation. Read all articles from csv.\n",
    "import pandas as pd\n",
    "tags = pd.read_csv(\"tag_id_name.csv\")\n",
    "tags_list = [str(tag) for tag in tags.tag_name]\n",
    "articles = pd.read_csv('article_tag_full_prod.csv', usecols=['a_content', 'tag_names'])\n",
    "del tags"
   ]
  },
  {
   "cell_type": "code",
   "execution_count": null,
   "metadata": {
    "tags": []
   },
   "outputs": [],
   "source": [
    "#EDA\n",
    "import re\n",
    "\n",
    "tags_set = set()\n",
    "tags_for_articles = []\n",
    "for i, row in articles.iterrows():\n",
    "    tag_names = re.split('\\|', str(row['tag_names']))\n",
    "    tags_set.update(tag_names)\n",
    "    tags_for_articles.extend(tag_names)\n",
    "\n",
    "#Part 1 - find tags in the sample articles\n",
    "print(len(tags_set)) # 12,549 different tags\n",
    "total_num_tags = len(tags_for_articles)\n",
    "print(total_num_tags) # 1,583,746 tags used for all articles\n",
    "\n",
    "#Part 2 - tags distribution\n",
    "distribution = [(tag, tags_for_articles.count(tag)) for tag in tags_set]\n",
    "distribution.sort(key = lambda x: x[1], reverse=True)\n",
    "#Top 3 tags: 疫情, 新冠肺炎疫情, 新冠肺炎\n",
    "print('Top 3: ', distribution[0], ', ', distribution[1], ', ', distribution[2])\n",
    "#Accounting percentage of top 3 tags\n",
    "print('Acounting percentage: ', (distribution[0][1] + distribution[1][1] + distribution[2][1])/total_num_tags * 100, '%')\n",
    "#Amount of tags that have more than 3 articles instances: 9876 through out 12,549 tags\n",
    "print('Amount of tags that have more than 3 articles instances: ', len(list(filter(lambda tup: tup[1] >= 3, distribution))))\n",
    "#Amount of tags that have 2 articles instances: 962 through out 12,549 tags\n",
    "print('Amount of tags that have 2 articles instances: ', len(list(filter(lambda tup: tup[1] == 2, distribution))))\n",
    "#Amount of tags that have 1 articles instances: 1711 through out 12,549 tags\n",
    "print('Amount of tags that have 2 articles instances: ', len(list(filter(lambda tup: tup[1] == 1, distribution))))"
   ]
  },
  {
   "cell_type": "code",
   "execution_count": null,
   "metadata": {
    "tags": []
   },
   "outputs": [],
   "source": [
    "# Store the processed articles and corresponding tags in txt files\n",
    "import string\n",
    "import re\n",
    "from ckiptagger import data_utils, construct_dictionary, WS\n",
    "\n",
    "# Data cleaning (remove punctuation, special characters, spaces)\n",
    "def clean(article):\n",
    "    removed_parenthese = re.sub('[()]', '', article)\n",
    "    removed_num = re.sub(r'[0-9]+', '', removed_parenthese)\n",
    "    removed_w = re.sub(r'[^\\w]', '', removed_num)\n",
    "    removed_english = re.sub(r'[a-zA-Z]', '', removed_w)\n",
    "    return removed_english\n",
    "\n",
    "ws = WS('./data')\n",
    "\n",
    "article_tags = []\n",
    "pa = open('preprocessed_articles.txt', 'w', encoding='utf8')\n",
    "pat = open('preprocessed_articles_tags.txt', 'w', encoding='utf8')\n",
    "for i, row in articles.iterrows():\n",
    "    tag_names = re.split('\\|', str(row['tag_names']))\n",
    "    article_tags.append(tag_names)\n",
    "    sentence_list = re.split('。|！|？| ', clean(str(row['a_content'])))\n",
    "    word_sentence_list = ws(sentence_list)\n",
    "    not_null_sentence_list = filter(lambda sentence: len(sentence) > 0, word_sentence_list)\n",
    "    row['a_content'] = ' '.join(sum(not_null_sentence_list, []))\n",
    "    pa.write(row['a_content'] + '\\n')\n",
    "    pat.write('[' + ', '.join(map(str, tag_names)) + ']\\n')\n",
    "pa.close()\n",
    "pat.close()\n",
    "del ws"
   ]
  },
  {
   "cell_type": "code",
   "execution_count": 2,
   "metadata": {
    "tags": []
   },
   "outputs": [
    {
     "output_type": "stream",
     "name": "stdout",
     "text": "\nWARNING: The TensorFlow contrib module will not be included in TensorFlow 2.0.\nFor more information, please see:\n  * https://github.com/tensorflow/community/blob/master/rfcs/20180907-contrib-sunset.md\n  * https://github.com/tensorflow/addons\nIf you depend on functionality not listed there, please file an issue.\n\n"
    }
   ],
   "source": [
    "# clean the articles directly and get ready for tag score calculation\n",
    "import string\n",
    "import re\n",
    "from ckiptagger import data_utils, construct_dictionary, WS\n",
    "import pandas as pd\n",
    "\n",
    "def clean(article):\n",
    "    removed_parenthese = re.sub('[()]', '', article)\n",
    "    removed_num = re.sub(r'[0-9]+', '', removed_parenthese)\n",
    "    removed_w = re.sub(r'[^\\w]', '', removed_num)\n",
    "    removed_english = re.sub(r'[a-zA-Z]', '', removed_w)\n",
    "    return removed_english\n",
    "\n",
    "ws = WS('./data')\n",
    "\n",
    "pa = open('new_preprocessed_articles.txt', 'w', encoding='utf8')\n",
    "pat = open('new_preprocessed_articles_tags.txt', 'w', encoding='utf8')\n",
    "\n",
    "for i, row in articles.iterrows():\n",
    "    if pd.isnull(row['a_content']):\n",
    "        continue\n",
    "    pat.write('[' + ', '.join(map(str, re.split('\\|', str(row['tag_names'])))) + ']\\n')\n",
    "    sentence_list = re.split('。|！|？| ', clean(str(row['a_content'])))\n",
    "    word_sentence_list = ws(sentence_list)\n",
    "    not_null_sentence_list = filter(lambda sentence: len(sentence) > 0, word_sentence_list)\n",
    "    pa.write(' '.join(sum(not_null_sentence_list, [])) + '\\n')\n",
    "del ws\n",
    "pa.close()\n",
    "pat.close()"
   ]
  },
  {
   "cell_type": "code",
   "execution_count": 3,
   "metadata": {
    "tags": []
   },
   "outputs": [],
   "source": [
    "# some articles doesn't have article content but have tags. filter out those articles and tags. construct df_articles dataframe\n",
    "import pandas as pd\n",
    "import re\n",
    "\n",
    "fa = open('new_preprocessed_articles.txt', 'r', encoding='utf8')\n",
    "ft = open('new_preprocessed_articles_tags.txt', 'r', encoding='utf8')\n",
    "\n",
    "tags_set = set()\n",
    "tags_for_articles = []\n",
    "\n",
    "processed_articles = {'article_content': [re.sub('\\\\n', '', str(article)) for article in fa], 'article_tags': []}\n",
    "\n",
    "for tag in ft:\n",
    "    corresponding_tags = re.split(', ', str(tag).replace('[', '').replace(']', '').replace('\\n', ''))\n",
    "    processed_articles['article_tags'].append(corresponding_tags)\n",
    "    tags_set.update(corresponding_tags)\n",
    "    tags_for_articles.extend(corresponding_tags)\n",
    "\n",
    "fa.close()\n",
    "ft.close()"
   ]
  },
  {
   "cell_type": "code",
   "execution_count": 4,
   "metadata": {},
   "outputs": [],
   "source": [
    "df_articles = pd.DataFrame(data=processed_articles)"
   ]
  },
  {
   "cell_type": "code",
   "execution_count": 5,
   "metadata": {},
   "outputs": [],
   "source": [
    "# calculate tag score by its frequency distribution. score = occurrance / total number of article tags\n",
    "tag_scores = {}\n",
    "for tag in tags_set:\n",
    "    tag_scores[tag] = tags_for_articles.count(tag)/len(tags_for_articles)\n",
    "\n",
    "del tags_for_articles\n",
    "del tags_set"
   ]
  },
  {
   "cell_type": "code",
   "execution_count": 6,
   "metadata": {},
   "outputs": [
    {
     "output_type": "execute_result",
     "data": {
      "text/plain": "                                          article_content  \\\n53179   口罩 搶 消毒 用品 搶 新冠 肺炎 被 世界 衛生 組織 正式 定性 為 全球 大 流行 ...   \n356045  經濟日報 專訊 本 港 在 新冠 肺炎 疫情 下 不少 餐廳 停業 或 結業 有 日本 餐廳...   \n131165  新型 冠狀 病毒 持續 蔓延至 全球 各 地 新冠肺炎 武漢 肺炎 在 中國 內地 的 確診...   \n358723  新冠肺炎 肆虐 不少 行業 都 受 重挫 餐飲業 旅遊業 因為 疫情 關係 不斷 出現 倒閉...   \n355194  自 上 月號 起 從 韓國 抵 港 的 港人 須 接受 日 醫學 監察 而 由 南韓 抵 港...   \n...                                                   ...   \n291905  小五小六 的 學生 需要 面對 影響 升中 派位 的 小學 呈 分試 丹拿山 循道 學校 校...   \n272044  行政 長官 林鄭月娥 已 接納 終審 法院 首席 法官 的 建議 將 兩 位 終審 法院 非...   \n112889  恒指 失守 會 下試 昇捷 控股 現價元 買入價 現價 目標 價元 止蝕 價元 買入 原因 ...   \n315990  綽號 波波 嘅前 藝人 唐麗 球年 參加 香港 小姐 競選 奪得 季軍 卸任 之後 就 為 ...   \n245741  強 颱風 山竹 摧毀 香港 大 批 海洋 垃圾 隨 海浪 湧上岸 杏花邨 慘遭 垃圾 圍城 ...   \n\n                                             article_tags         score  \n53179   [武漢, 歐洲, 疫情, 沙士, 口罩, 日本, 疫情, 全球大流行, 澳洲, 中國, 肺炎...  2.075211e-01  \n356045  [肺炎, 黃大仙, 新冠肺炎疫情, 疫情, 新冠肺炎, 服務, 新冠肺炎疫情, Facebo...  1.905318e-01  \n131165  [新冠肺炎, 冠狀病毒, 武漢, 香港, 零售, 中國, 經濟, 肺炎, 冠狀病毒, 經濟,...  1.898835e-01  \n358723  [香港, 運輸, 裁員, 林鄭月娥, 創業, PayMe, 工程, 荃灣, 新冠肺炎疫情, ...  1.764115e-01  \n355194  [疫情, 無薪假, 社企, 口罩, 巴士, Apple, 肺炎, 首爾, 疫情, 無薪假, ...  1.729946e-01  \n...                                                   ...           ...  \n291905                                          [丹拿山循道學校]  6.355889e-07  \n272044                                              [陳兆愷]  6.355889e-07  \n112889                                      [昇捷控股（02340）]  6.355889e-07  \n315990                                              [吳毅將]  6.355889e-07  \n245741                                      [救世軍韋理夫人紀念學校]  6.355889e-07  \n\n[360352 rows x 3 columns]",
      "text/html": "<div>\n<style scoped>\n    .dataframe tbody tr th:only-of-type {\n        vertical-align: middle;\n    }\n\n    .dataframe tbody tr th {\n        vertical-align: top;\n    }\n\n    .dataframe thead th {\n        text-align: right;\n    }\n</style>\n<table border=\"1\" class=\"dataframe\">\n  <thead>\n    <tr style=\"text-align: right;\">\n      <th></th>\n      <th>article_content</th>\n      <th>article_tags</th>\n      <th>score</th>\n    </tr>\n  </thead>\n  <tbody>\n    <tr>\n      <th>53179</th>\n      <td>口罩 搶 消毒 用品 搶 新冠 肺炎 被 世界 衛生 組織 正式 定性 為 全球 大 流行 ...</td>\n      <td>[武漢, 歐洲, 疫情, 沙士, 口罩, 日本, 疫情, 全球大流行, 澳洲, 中國, 肺炎...</td>\n      <td>2.075211e-01</td>\n    </tr>\n    <tr>\n      <th>356045</th>\n      <td>經濟日報 專訊 本 港 在 新冠 肺炎 疫情 下 不少 餐廳 停業 或 結業 有 日本 餐廳...</td>\n      <td>[肺炎, 黃大仙, 新冠肺炎疫情, 疫情, 新冠肺炎, 服務, 新冠肺炎疫情, Facebo...</td>\n      <td>1.905318e-01</td>\n    </tr>\n    <tr>\n      <th>131165</th>\n      <td>新型 冠狀 病毒 持續 蔓延至 全球 各 地 新冠肺炎 武漢 肺炎 在 中國 內地 的 確診...</td>\n      <td>[新冠肺炎, 冠狀病毒, 武漢, 香港, 零售, 中國, 經濟, 肺炎, 冠狀病毒, 經濟,...</td>\n      <td>1.898835e-01</td>\n    </tr>\n    <tr>\n      <th>358723</th>\n      <td>新冠肺炎 肆虐 不少 行業 都 受 重挫 餐飲業 旅遊業 因為 疫情 關係 不斷 出現 倒閉...</td>\n      <td>[香港, 運輸, 裁員, 林鄭月娥, 創業, PayMe, 工程, 荃灣, 新冠肺炎疫情, ...</td>\n      <td>1.764115e-01</td>\n    </tr>\n    <tr>\n      <th>355194</th>\n      <td>自 上 月號 起 從 韓國 抵 港 的 港人 須 接受 日 醫學 監察 而 由 南韓 抵 港...</td>\n      <td>[疫情, 無薪假, 社企, 口罩, 巴士, Apple, 肺炎, 首爾, 疫情, 無薪假, ...</td>\n      <td>1.729946e-01</td>\n    </tr>\n    <tr>\n      <th>...</th>\n      <td>...</td>\n      <td>...</td>\n      <td>...</td>\n    </tr>\n    <tr>\n      <th>291905</th>\n      <td>小五小六 的 學生 需要 面對 影響 升中 派位 的 小學 呈 分試 丹拿山 循道 學校 校...</td>\n      <td>[丹拿山循道學校]</td>\n      <td>6.355889e-07</td>\n    </tr>\n    <tr>\n      <th>272044</th>\n      <td>行政 長官 林鄭月娥 已 接納 終審 法院 首席 法官 的 建議 將 兩 位 終審 法院 非...</td>\n      <td>[陳兆愷]</td>\n      <td>6.355889e-07</td>\n    </tr>\n    <tr>\n      <th>112889</th>\n      <td>恒指 失守 會 下試 昇捷 控股 現價元 買入價 現價 目標 價元 止蝕 價元 買入 原因 ...</td>\n      <td>[昇捷控股（02340）]</td>\n      <td>6.355889e-07</td>\n    </tr>\n    <tr>\n      <th>315990</th>\n      <td>綽號 波波 嘅前 藝人 唐麗 球年 參加 香港 小姐 競選 奪得 季軍 卸任 之後 就 為 ...</td>\n      <td>[吳毅將]</td>\n      <td>6.355889e-07</td>\n    </tr>\n    <tr>\n      <th>245741</th>\n      <td>強 颱風 山竹 摧毀 香港 大 批 海洋 垃圾 隨 海浪 湧上岸 杏花邨 慘遭 垃圾 圍城 ...</td>\n      <td>[救世軍韋理夫人紀念學校]</td>\n      <td>6.355889e-07</td>\n    </tr>\n  </tbody>\n</table>\n<p>360352 rows × 3 columns</p>\n</div>"
     },
     "metadata": {},
     "execution_count": 6
    }
   ],
   "source": [
    "# calculate article score according to the sum of its tag score and sort the articles by score\n",
    "score = []\n",
    "for i, row in df_articles.iterrows():\n",
    "    score.append(sum([tag_scores[tag] for tag in row['article_tags']]))\n",
    "df_articles['score'] = score\n",
    "df_articles.sort_values(by='score', ascending=False)"
   ]
  },
  {
   "cell_type": "code",
   "execution_count": 8,
   "metadata": {},
   "outputs": [],
   "source": [
    "# LinearSVC with reduced dimension so more data can be trained\n",
    "import numpy as np\n",
    "from sklearn.model_selection import train_test_split\n",
    "from sklearn.svm import LinearSVC\n",
    "from sklearn.linear_model import SGDClassifier\n",
    "from sklearn.feature_extraction.text import TfidfTransformer\n",
    "from sklearn.feature_extraction.text import TfidfVectorizer\n",
    "from sklearn.multiclass import OneVsRestClassifier\n",
    "from sklearn.preprocessing import MultiLabelBinarizer, StandardScaler\n",
    "from sklearn.pipeline import Pipeline\n",
    "from sklearn.feature_extraction.text import CountVectorizer\n",
    "from sklearn.decomposition import PCA, TruncatedSVD\n",
    "import re\n",
    "\n",
    "tags = df_articles['article_tags']\n",
    "mlb = MultiLabelBinarizer()\n",
    "binarized_labels = mlb.fit_transform(tags[0:100])\n",
    "\n",
    "articles = df_articles['article_content']\n",
    "X_train, X_test, y_train, y_test = train_test_split(articles[0:100], binarized_labels, test_size=0.33, random_state=42)\n",
    "\n",
    "classifier = Pipeline([\n",
    "    ('tfidf', TfidfVectorizer()),\n",
    "    (\"scaler\", StandardScaler(with_mean=False)),\n",
    "    (\"lsa\", TruncatedSVD(n_components=1000)),\n",
    "    # ('clf', OneVsRestClassifier(LinearSVC(), n_jobs=-1))\n",
    "    ('clf', OneVsRestClassifier(SGDClassifier(), n_jobs=-1))\n",
    "])\n",
    "classifier.fit(X_train, y_train)\n",
    "predicted = classifier.predict(X_test)\n",
    "\n",
    "# f1 score (LinearSVC) for 50000 articles with standard scaler and truncated svd: 0.0504148319332105\n",
    "# f1 score (LinearSVC) for 40000 articles without standard scaler and truncated svd: 0.39575328375678326\n",
    "# f1 score (SGDClassifier) for 100000 articles with standard scaler and truncated svd: 0.11678808708061852"
   ]
  },
  {
   "cell_type": "code",
   "execution_count": null,
   "metadata": {},
   "outputs": [],
   "source": [
    "# LinearSVC\n",
    "import numpy as np\n",
    "from sklearn.model_selection import train_test_split\n",
    "from sklearn.svm import LinearSVC\n",
    "from sklearn.feature_extraction.text import TfidfTransformer\n",
    "from sklearn.multiclass import OneVsRestClassifier\n",
    "from sklearn.preprocessing import MultiLabelBinarizer\n",
    "from sklearn.pipeline import Pipeline\n",
    "from sklearn.feature_extraction.text import CountVectorizer\n",
    "import re\n",
    "\n",
    "f = open('stop_words.txt', 'r', encoding='utf8')\n",
    "stop_words = [re.sub('\\\\n', '', str(word)) for word in f]\n",
    "fa = open('preprocessed_articles.txt', 'r', encoding='utf8')\n",
    "preprocessed_articles = [re.sub('\\\\n', '', str(article)) for article in fa]\n",
    "ft = open('preprocessed_articles_tags.txt', 'r', encoding='utf8')\n",
    "article_tags = [re.split(', ', str(tag).replace('[', '').replace(']', '').replace('\\n', '')) for tag in ft]\n",
    "\n",
    "all_articles = np.array(preprocessed_articles[0:20000])\n",
    "all_articles_tags = article_tags[0:20000]\n",
    "X_train, X_test, y_train, y_test = train_test_split(all_articles, all_articles_tags, test_size=0.33, random_state=42)\n",
    "\n",
    "mlb = MultiLabelBinarizer()\n",
    "Y = mlb.fit_transform(y_train)\n",
    "classifier = Pipeline([\n",
    "    ('vectorizer', CountVectorizer()),\n",
    "    ('tfidf', TfidfTransformer()),\n",
    "    ('clf', OneVsRestClassifier(LinearSVC()))\n",
    "])\n",
    "classifier.fit(X_train, Y)\n",
    "predicted = classifier.predict(X_test)\n",
    "all_labels = mlb.inverse_transform(predicted)\n",
    "\n",
    "with open('training_result.txt', 'w', encoding='utf8') as writer:\n",
    "    for yLabels, labels in zip(y_test, all_labels):\n",
    "        writer.write('Tags by editor: ['+ ', '.join(yLabels) + ']; ' + 'Tags by model: ['+ ', '.join(labels) + ']\\n')"
   ]
  },
  {
   "cell_type": "code",
   "execution_count": null,
   "metadata": {
    "tags": []
   },
   "outputs": [],
   "source": [
    "# LinearSVC - Test for 40000 articles\n",
    "# MultinomialNB - Test for 40000 articles\n",
    "# LogisticRegression - Test for 40000 articles\n",
    "import numpy as np\n",
    "from sklearn.model_selection import train_test_split\n",
    "from sklearn.svm import LinearSVC\n",
    "from sklearn.naive_bayes import MultinomialNB\n",
    "from sklearn.linear_model import LogisticRegression\n",
    "from sklearn.feature_extraction.text import TfidfTransformer\n",
    "from sklearn.feature_extraction.text import TfidfVectorizer\n",
    "from sklearn.multiclass import OneVsRestClassifier\n",
    "from sklearn.preprocessing import MultiLabelBinarizer\n",
    "from sklearn.pipeline import Pipeline\n",
    "from sklearn.feature_extraction.text import CountVectorizer\n",
    "import re\n",
    "from sklearn.metrics import f1_score\n",
    "\n",
    "# f = open('stop_words.txt', 'r', encoding='utf8')\n",
    "# stop_words = [re.sub('\\\\n', '', str(word)).replace(' ', '') for word in f]\n",
    "fa = open('preprocessed_articles.txt', 'r', encoding='utf8')\n",
    "preprocessed_articles = [re.sub('\\\\n', '', str(article)) for article in fa]\n",
    "ft = open('preprocessed_articles_tags.txt', 'r', encoding='utf8')\n",
    "article_tags = [re.split(', ', str(tag).replace('[', '').replace(']', '').replace('\\n', '')) for tag in ft]\n",
    "\n",
    "mlb = MultiLabelBinarizer()\n",
    "binarized_labels = mlb.fit_transform(article_tags[0:40000])\n",
    "\n",
    "X_train, X_test, y_train, y_test = train_test_split(preprocessed_articles[0:40000], binarized_labels, test_size=0.33, random_state=42)\n",
    "\n",
    "classifier = Pipeline([\n",
    "    ('tfidf', TfidfVectorizer()),\n",
    "    ('clf', OneVsRestClassifier(LinearSVC(), n_jobs=-1)) # f1_score: 0.39575 (40000 articles)\n",
    "    # ('clf', OneVsRestClassifier(MultinomialNB(fit_prior=True, class_prior=None))) # f1_score: 0.15998 (10000 articles)\n",
    "    # ('clf', OneVsRestClassifier(LogisticRegression(solver='sag'), n_jobs=-1)) # f1_score: 0.24809 (40000 articles)\n",
    "])\n",
    "classifier.fit(X_train, y_train)\n",
    "predicted = classifier.predict(X_test)"
   ]
  },
  {
   "cell_type": "code",
   "execution_count": 9,
   "metadata": {
    "tags": []
   },
   "outputs": [
    {
     "output_type": "stream",
     "name": "stdout",
     "text": "F1 score for 40000 articles:  0.34763948497854075\n"
    }
   ],
   "source": [
    "from sklearn.metrics import f1_score\n",
    "\n",
    "# Print score\n",
    "print ('F1 score for 40000 articles: ', str(f1_score(y_test, predicted, average='micro')))"
   ]
  },
  {
   "cell_type": "code",
   "execution_count": null,
   "metadata": {},
   "outputs": [],
   "source": [
    "# Saving model\n",
    "import pickle\n",
    "\n",
    "with open('./models/svc_classifier.pkl', 'wb') as f:\n",
    "    pickle.dump(classifier, f)"
   ]
  },
  {
   "cell_type": "code",
   "execution_count": null,
   "metadata": {},
   "outputs": [],
   "source": [
    "# Load model\n",
    "\n",
    "with open('./models/svc_classifier.pkl', 'rb') as f:\n",
    "    svc_clf = pickle.load(f)"
   ]
  },
  {
   "cell_type": "code",
   "execution_count": null,
   "metadata": {
    "tags": []
   },
   "outputs": [],
   "source": [
    "# Binary Relevance\n",
    "from skmultilearn.problem_transform import BinaryRelevance\n",
    "from sklearn.model_selection import train_test_split\n",
    "from sklearn.naive_bayes import GaussianNB\n",
    "from sklearn.feature_extraction.text import TfidfVectorizer\n",
    "from sklearn.preprocessing import MultiLabelBinarizer\n",
    "import re\n",
    "import numpy as np\n",
    "from sklearn.metrics import f1_score\n",
    "\n",
    "f = open('stop_words.txt', 'r', encoding='utf8')\n",
    "stop_words = [re.sub('\\\\n', '', str(word)) for word in f]\n",
    "fa = open('preprocessed_articles.txt', 'r', encoding='utf8')\n",
    "preprocessed_articles = [re.sub('\\\\n', '', str(article)) for article in fa]\n",
    "ft = open('preprocessed_articles_tags.txt', 'r', encoding='utf8')\n",
    "article_tags = [re.split(', ', str(tag).replace('[', '').replace(']', '').replace('\\n', '')) for tag in ft]\n",
    "\n",
    "# notNullArticleIndex =  list()\n",
    "# for i in range(len(preprocessed_articles[0:105797])):\n",
    "#     if preprocessed_articles[i] != '':\n",
    "#         notNullArticleIndex.append(i)\n",
    "\n",
    "# removed_null_articles = [preprocessed_articles[i] for i in notNullArticleIndex]\n",
    "# removed_null_articles_tags = [article_tags[i] for i in notNullArticleIndex]\n",
    "\n",
    "# fa.close()\n",
    "# ft.close()\n",
    "# del preprocessed_articles\n",
    "# del article_tags\n",
    "# del notNullArticleIndex\n",
    "\n",
    "mlb = MultiLabelBinarizer()\n",
    "binarized_labels = mlb.fit_transform(article_tags[0:40000])\n",
    "\n",
    "X_train, X_test, y_train, y_test = train_test_split(preprocessed_articles[0:40000], binarized_labels, test_size=0.33, random_state=42)\n",
    "\n",
    "# initialize binary relevance multi-label classifier with a gaussian naive bayes base classifier\n",
    "classifier = BinaryRelevance(GaussianNB())\n",
    "\n",
    "vectorizer = TfidfVectorizer(strip_accents='unicode', analyzer='word')\n",
    "vectorizer.fit(X_train)\n",
    "vectorizer.fit(X_test)\n",
    "X_train = vectorizer.transform(X_train)\n",
    "X_test = vectorizer.transform(X_test)\n",
    "\n",
    "#train\n",
    "classifier.fit(X_train, y_train)\n",
    "\n",
    "# predict\n",
    "predictions = classifier.predict(X_test)\n",
    "\n",
    "# accuracy\n",
    "print(\"f1 score for BR: \", f1_score(y_test, predictions, average='micro'))"
   ]
  },
  {
   "cell_type": "code",
   "execution_count": null,
   "metadata": {},
   "outputs": [],
   "source": [
    "# Classifier chains\n",
    "from skmultilearn.problem_transform import ClassifierChain\n",
    "from sklearn.linear_model import LogisticRegression\n",
    "\n",
    "# initialize classifier chains multi-label classifier\n",
    "classifier = ClassifierChain(LogisticRegression())\n",
    "\n",
    "# training logistic regression model on train data\n",
    "classifier.fit(x_train, y_train)\n",
    "\n",
    "# predict\n",
    "predictions = classifier.predict(x_test)\n",
    "\n",
    "# accuracy\n",
    "print(\"Accuracy = \", accuracy_score(y_test, predictions))"
   ]
  },
  {
   "cell_type": "code",
   "execution_count": null,
   "metadata": {},
   "outputs": [],
   "source": [
    "# Label powerset\n",
    "from skmultilearn.problem_transform import LabelPowerset\n",
    "\n",
    "# initialize label powerset multi-label classifier\n",
    "classifier = LabelPowerset(LogisticRegression())\n",
    "\n",
    "# train\n",
    "classifier.fit(x_train, y_train)\n",
    "\n",
    "# predict\n",
    "predictions = classifier.predict(x_test)\n",
    "\n",
    "# accuracy\n",
    "print(\"Accuracy = \", accuracy_score(y_test, predictions))"
   ]
  },
  {
   "cell_type": "code",
   "execution_count": null,
   "metadata": {},
   "outputs": [],
   "source": [
    "# Adapted algorithm\n",
    "from skmultilearn.adapt import MLkNN\n",
    "from scipy.sparse import csr_matrix, lil_matrix\n",
    "classifier_new = MLkNN(k=10)\n",
    "# Note that this classifier can throw up errors when handling sparse matrices.\n",
    "x_train = lil_matrix(x_train).toarray()\n",
    "y_train = lil_matrix(y_train).toarray()\n",
    "x_test = lil_matrix(x_test).toarray()\n",
    "# train\n",
    "classifier_new.fit(x_train, y_train)\n",
    "# predict\n",
    "predictions_new = classifier_new.predict(x_test)\n",
    "# accuracy\n",
    "print(\"Accuracy = \",accuracy_score(y_test,predictions_new))"
   ]
  }
 ],
 "metadata": {
  "kernelspec": {
   "display_name": "Python 3",
   "language": "python",
   "name": "python3"
  },
  "language_info": {
   "codemirror_mode": {
    "name": "ipython",
    "version": 3
   },
   "file_extension": ".py",
   "mimetype": "text/x-python",
   "name": "python",
   "nbconvert_exporter": "python",
   "pygments_lexer": "ipython3",
   "version": "3.7.6-final"
  }
 },
 "nbformat": 4,
 "nbformat_minor": 4
}